{
 "cells": [
  {
   "cell_type": "markdown",
   "metadata": {
    "id": "Ds5tHU-5hZKV"
   },
   "source": [
    "# Temas Tratados en el Trabajo Práctico 6\n",
    "\n",
    "* Modelado de problemas en espacios de estado.\n",
    "\n",
    "* Algoritmos de planificación hacia adelante y hacia atrás.\n",
    "\n",
    "* Representación y solución de problemas descritos en lenguaje STRIPS.\n",
    "\n",
    "* Algoritmo GRAPHPLAN.\n",
    "\n",
    "* Planificación con restricciones de tiempo y recursos.\n",
    "\n",
    "* Caminos críticos y tiempos de relajación.\n",
    "\n",
    "## Ejercicios Teóricos\n",
    "\n",
    "1. ¿En qué tipo de algoritmos se basa un planificador para encontrar el mejor camino a un estado solución?"
   ]
  },
  {
   "cell_type": "markdown",
   "metadata": {},
   "source": [
    "1. **Búsqueda en el espacio de estados hacia adelante**\n",
    "Parte de estado inicial y enlista las acciones que hacen evolucionar los posibles estados hasta llegar al estado objetivo. \n",
    "**Desventajas:**\n",
    "* No es práctico: Debe recorrer todo el espacio de estados, lo que puede consumir muchos recursos.\n",
    "* no toma en cuenta el \"peso\" de las acciones: para esta búsqueda, dos planificaciones \"pesan\" lo mismo aunque una pueda consumir más recursos.\n",
    "\n",
    "![Búsqueda fordward](Imagenes/busquedaadelante.png)\n",
    "\n",
    "2. **Búsqueda en el espacio de estados hacia atrás**\n",
    "Acá, el planificador parte del estado objetivo y arma una lista de acciones hasta llegar al estado inicial.\n",
    "**Desventajas:**\n",
    "* Difícil de implementar\n",
    "* No siempre es obvio cómo generar los estados predecesores del\n",
    "conjunto de estados objetivo.\n",
    "**Ventajas:**\n",
    "* Permite considerar acciones **relevantes**\n",
    "* Permite considerar acciones **consistentes**: acciones que no deshacen los literales deseados\n",
    "\n",
    "\n",
    "![Búsqueda backward](Imagenes/busquedaatras.png)\n",
    "\n",
    "3. **Búsqueda en el espacio de planes: Planificación de orden total**\n",
    "Se define una acción en base a la entrada o **precondición** y a la salida o **efecto** de la acción.\n",
    "La búsqueda consiste en añadir acciones al plan de manera que las precondiciones de cada acción estén cubiertas por los efectos de otras acciones. Se debe definir:\n",
    "- Inicio: Precondición **nula**, efecto **Estado Inicial**\n",
    "- Finalizar: Precondicion **Estado Objetivo**, efecto **nulo**\n",
    "\n",
    "El plan es una secuencia lineal de acciones, totalmente ordenadas. Se define la siguiente acción en base a la precondición, que es efecto de la acción anterior.\n",
    "\n",
    "![Planificación de orden total](Imagenes/plantotal.png)\n",
    "\n",
    "4. **Búsqueda en el espacio de planes: Planificación de orden parcial(POP)**\n",
    "Se ramifica cada vez que una acción futura necesita efectos que deben ser generados por acciones previas. Cada rama representa una alternativa de cómo lograr esos efectos, manteniendo solo los órdenes necesarios entre acciones.\n",
    "Se toma una acción cuya precondición no está satisfecha, luego busca acciones que puedan producir esos efectos y las añade al plan creando restricciones de orden necesarias\n",
    "\n",
    "![POP](Imagenes/POP.png)\n",
    "\n",
    "5. **Algoritmo de Graphplan**\n",
    "* Primero se chequea si todos los literales del objetivo están presentes en el nivel actual sin que existan enlaces mutuamente excluyentes entre cualquier par de ellos.\n",
    "* Luego se extiende el grafo añadiendo acciones para el nivel actual y literales de estado para el siguiente nivel.\n",
    "* El proceso continúa hasta que una solución sea encontrada o se compruebe que la solución no existe.\n"
   ]
  },
  {
   "cell_type": "markdown",
   "metadata": {},
   "source": [
    "\n",
    "2. ¿Qué tres elementos se encuentran dentro de una acción formulada en lenguaje STRIPS? Describa brevemente qué función cumple cada uno."
   ]
  },
  {
   "cell_type": "markdown",
   "metadata": {},
   "source": []
  },
  {
   "cell_type": "markdown",
   "metadata": {},
   "source": [
    "3. Describa las ventajas y desventajas de desarrollar un algoritmo de planificación hacia adelante y hacia atrás en el espacio de estados.\n"
   ]
  },
  {
   "cell_type": "markdown",
   "metadata": {},
   "source": [
    "| Tipo de planificación        | Ventajas                        | Desventajas                       |\n",
    "|-------------------------------|---------------------------------|----------------------------------|\n",
    "| **Hacia adelante (forward)**  | Simple, fácil implementación, compatible con heurísticas | Muchas acciones irrelevantes, ineficiente sin heurística, mismo \"peso\" para todas las acciones posibles |\n",
    "| **Hacia atrás (backward)**    | Filtra acciones irrelevantes, eficiente en problemas grandes | Objetivo debe estar bien definido, múltiples ramas posibles, complejo de implementar |\n"
   ]
  },
  {
   "cell_type": "markdown",
   "metadata": {},
   "source": [
    "4. Considere el problema de ponerse uno mismo zapatos y medias. Aplique GRAPHPLAN a este problema y muestre la solución obtenida. Muestre el plan de orden parcial que es solución e indique cuántas linealizaciones diferentes existen para el plan de orden parcial."
   ]
  },
  {
   "cell_type": "markdown",
   "metadata": {},
   "source": [
    "Ordenes de restricción mínimas: \n",
    "* En(MD, PD) < En(ZD, PD)\n",
    "* En(MI, PI) < En(ZI, PI)\n",
    "\n",
    "Entonces nuestro estado inicial se reduce a lo figurado en el grafo. Si por cada estado inicial pueden salir 3 linealizaciones, tendremos 6(3 ramas posibles * 2 ramas iniciales) linealizaciones posibles.\n",
    "\n",
    "![medias y zapatillas](Imagenes/Ej4Graphplan.png)"
   ]
  },
  {
   "cell_type": "markdown",
   "metadata": {},
   "source": [
    "5. Se requiere ensamblar una máquina cuyas piezas están identificadas con las letras A, B, C, D y E. El tiempo que se tarda en ensamblar cada pieza es:\n",
    "\n",
    "* A: 2 semanas\n",
    "\n",
    "* B: 1 semana\n",
    "\n",
    "* C: 4 semanas\n",
    "\n",
    "* D: 3 semanas\n",
    "\n",
    "* E: 5 semanas\n",
    "\n",
    "    El orden de ensamblaje de cada pieza requiere que:\n",
    "\n",
    "* A esté realizado antes que C\n",
    "\n",
    "* B esté realizado antes que C\n",
    "\n",
    "* B esté realizado antes que D\n",
    "\n",
    "* C esté realizado antes que E\n",
    "\n",
    "* D esté realizado antes que E\n",
    "\n",
    "    Con esta información:\n",
    "\n",
    "        5.1 Arme el Plan de Orden Parcial.\n",
    "\n",
    "        5.2 Encuentre el Camino Crítico.\n",
    "\n",
    "        5.3 Encuentre los tiempos de relajación.\n",
    "\n",
    "        5.4 Dibuje un diagrama temporal indicando las tareas y los tiempos de relajación encontrados."
   ]
  },
  {
   "cell_type": "markdown",
   "metadata": {},
   "source": []
  },
  {
   "cell_type": "markdown",
   "metadata": {},
   "source": [
    "## Ejercicios de Implementación\n",
    "\n",
    "6. Suponga que tiene un robot de oficina capaz de moverse y tomar y depositar objetos. El robot solo puede tener un objeto a la vez, pero puede conseguir una *caja* en la que depositar varios objetos. Suponga que programa al robot para *ir a la tienda* a comprarle un *café* y en el camino de vuelta tome una *carta* del *buzón* de la oficina para para que se la traiga junto con el café. Describa en lenguaje STRIPS:\n",
    "\n",
    "        6.1 El dominio del robot (nombre, predicados y acciones que puede hacer el robot).\n",
    "\n",
    "        6.2 El problema que se quiere resolver (estado inicial, estado objetivo y objetos del mundo representados).\n",
    "\n",
    "        6.3 Introduzca el código desarrollado en los puntos anteriores en el [planificador online](http://lcas.lincoln.ac.uk/fast-downward/) y obtenga el plan de acción que tomará el robot para cumplir lo solicitado."
   ]
  },
  {
   "cell_type": "code",
   "execution_count": null,
   "metadata": {
    "vscode": {
     "languageId": "plaintext"
    }
   },
   "outputs": [],
   "source": []
  },
  {
   "cell_type": "markdown",
   "metadata": {},
   "source": [
    "\n",
    "# Bibliografía\n",
    "\n",
    "[Russell, S. & Norvig, P. (2004) _Inteligencia Artificial: Un Enfoque Moderno_. Pearson Educación S.A. (2a Ed.) Madrid, España](https://www.academia.edu/8241613/Inteligencia_Aritificial_Un_Enfoque_Moderno_2da_Edici%C3%B3n_Stuart_J_Russell_y_Peter_Norvig)\n",
    "\n",
    "[Poole, D. & Mackworth, A. (2023) _Artificial Intelligence: Foundations of Computational Agents_. Cambridge University Press (3a Ed.) Vancouver, Canada](https://artint.info/3e/html/ArtInt3e.html)"
   ]
  }
 ],
 "metadata": {
  "colab": {
   "authorship_tag": "ABX9TyNkaY83TIo2vj0VLym+xt9a",
   "provenance": []
  },
  "kernelspec": {
   "display_name": "Python 3",
   "name": "python3"
  },
  "language_info": {
   "name": "python"
  }
 },
 "nbformat": 4,
 "nbformat_minor": 0
}
