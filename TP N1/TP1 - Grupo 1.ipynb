{
  "cells": [
    {
      "attachments": {},
      "cell_type": "markdown",
      "metadata": {
        "id": "jWUX78DM7n9T"
      },
      "source": [
        "# Temas Tratados en el Trabajo Práctico 1\n",
        "\n",
        "* Diferencia entre Inteligencia e Inteligencia Artificial.\n",
        "\n",
        "* Concepto de omnisciencia, aprendizaje y autonomía.\n",
        "\n",
        "* Definición de Agente y sus características. Clasificación de Agentes según su estructura.\n",
        "\n",
        "* Identificación y categorización del Entorno de Trabajo en tabla REAS.\n",
        "\n",
        "* Caracterización del Entorno de Trabajo.\n",
        "\n",
        "# Anotaciones\n",
        "\n",
        "\"Acordarse de la definición de agente\""
      ]
    },
    {
      "cell_type": "markdown",
      "metadata": {},
      "source": [
        "# Ejercicios Teóricos\n",
        "\n",
        "1. Defina con sus propias palabras inteligencia natural, inteligencia artificial y agente."
      ]
    },
    {
      "cell_type": "markdown",
      "metadata": {},
      "source": [
        "- **Inteligencia Natural**: Capacidad de los seres vivos de actuar, pensar y tomar decisiones por su propia cuenta.\n",
        "- **Inteligencia Artificial**: Decisiones y acciones que un sistema toma en base a información provista por su entorno y condiciones definidas por el humano.\n",
        "- **Agente**:  Todo aquello capaz de percibir su entorno por medio de sensores y proceder mediante actuadores sobre el mismo."
      ]
    },
    {
      "cell_type": "markdown",
      "metadata": {},
      "source": [
        "\n",
        "2. ¿Qué es un agente racional?"
      ]
    },
    {
      "cell_type": "markdown",
      "metadata": {},
      "source": [
        "Un **Agente Racional** es un agente que actúa tratando de maximizar su rendimiento. Por ejemplo: un robot aspiradora que busque limpiar el piso lo más eficientemente posible.\n"
      ]
    },
    {
      "cell_type": "markdown",
      "metadata": {},
      "source": [
        "3. ¿Un agente es siempre una computadora?"
      ]
    },
    {
      "cell_type": "markdown",
      "metadata": {},
      "source": [
        "No necesariamente. Un agente es cualquier cosa capaz de percibir su entorno y actuar sobre este. Un ejemplo de agente podría ser incluso un apagavelas, que percibe que la vela se ha derretido hasta cierto punto y la apaga."
      ]
    },
    {
      "cell_type": "markdown",
      "metadata": {},
      "source": [
        "4. Defina Omnisciencia, Aprendizaje y Autonomía."
      ]
    },
    {
      "cell_type": "markdown",
      "metadata": {},
      "source": [
        "- La **Omnisciencia** es la cualidad de saber absolutamente todo.\n",
        "- El **Aprendizaje** es el proceso de actuar y luego aprender de los resultados.\n",
        "- La **Autonomía** es la capacidad del agente de actuar a partir de la información obtenida sin depender de instrucciones externas."
      ]
    },
    {
      "cell_type": "markdown",
      "metadata": {},
      "source": [
        "5. Defina cada tipo de agente en función de su **estructura** y dé un ejemplo de cada categoría."
      ]
    },
    {
      "cell_type": "markdown",
      "metadata": {},
      "source": [
        "- **Agente Simple**: Toma una acción definida luego de recibir una cierta entrada. Por ejemplo: una puerta automática.\n",
        "- **Agente Basado en Modelos**: Trabaja sobre su entorno en base a simplificaciones de la realidad (datos predictivos) y datos obtenidos en instantes previos o cargados en el modelo. \n",
        "- **Agente Basado en Objetivos**: Agentes que trabajan enfocandose en cumplir la función para la que fueron creados, sin importar el rendimiento o las preferencias. Por ejemplo: un sistema de envío de paquetes.\n",
        "- **Agente Basado en Utilidad**: Agentes que trabajan enfocandose en alcanzar un objetivo pero según preferencias definidas. Por ejemplo: un GPS que defina una ruta y diga el medio de transporte más cómodo, rápido o barato.\n",
        "- **Agente Aprendiz**: Mejora su rendimiento con el tiempo a través de experiencia y aprendizaje.\n",
        "- **Multiagente**: Un conjunto de agentes especializados que trabajan juntos."
      ]
    },
    {
      "cell_type": "markdown",
      "metadata": {},
      "source": [
        "6. Para los siguientes entornos de trabajo indique sus **propiedades**:\n",
        "\n",
        "        a. Una partida de ajedrez.\n",
        "\n",
        "        - Totalmente observable.\n",
        "        - Secuencial.\n",
        "        - Estocástica.\n",
        "        - Estático.\n",
        "        - Discreto.\n",
        "        - Multiagente.\n",
        "\n",
        "        b. Partido de Baloncesto\n",
        "        - Totalmente observable.\n",
        "        - Secuencial.\n",
        "        - Estocástico.\n",
        "        - Dinámico.\n",
        "        - Continuo.\n",
        "        - Multiagente\n",
        "\n",
        "        c. El juego Pacman :v\n",
        "        - Observable.\n",
        "        - Determinista.\n",
        "        - Secuencial\n",
        "        - Dinámico.\n",
        "        - Continuo.\n",
        "        - Agente Individual\n",
        "\n",
        "        d. El truco.\n",
        "        - Parcialmente Observable.\n",
        "        - Secuencial.\n",
        "        - Dinámico.\n",
        "        - Estocástico.\n",
        "        - Discreto.\n",
        "        - Multiagente.\n",
        "\n",
        "        e. Las damas.\n",
        "        - Completamente Observable.\n",
        "        - Secuencial.\n",
        "        - Estático.\n",
        "        - Discreto.\n",
        "        - Estocástico.\n",
        "        - Multiagente.\n",
        "\n",
        "        f. El juego tres en raya.\n",
        "        - Completamente observable.\n",
        "        - Secuencial.\n",
        "        - Estático.\n",
        "        - Discreto.\n",
        "        - Estocástico.\n",
        "        - Multiagente.\n",
        "\n",
        "        g. Un jugador de Pokémon Go.\n",
        "        - Parcialmente observable.\n",
        "        - Episódico.\n",
        "        - Continuo.\n",
        "        - Dinámico.\n",
        "        - Estocástico.\n",
        "        - Multiagente.\n",
        "\n",
        "        h. Un robot explorador autónomo EN MARTE.\n",
        "        - Parcialmente observable.\n",
        "        - Secuencial.\n",
        "        - Continuo.\n",
        "        - Dinámico.\n",
        "        - Estocástica.\n",
        "        - Agente individual."
      ]
    },
    {
      "cell_type": "markdown",
      "metadata": {},
      "source": [
        "7. Elabore una tabla REAS para los siguientes entornos de trabajo:\n",
        "\n",
        "        a. Crucigrama.\n",
        "        - Agente: Jugador \n",
        "        - Medidas de Rendimiento: Tiempo de resolución, conocimiento de las palabras.\n",
        "        - Entorno: Papel.\n",
        "        - Actuadores: manos.\n",
        "        - Sensores: ojos.\n",
        "\n",
        "        b. Taxi circulando.\n",
        "        - Agente: Conductor.\n",
        "        - Medidas de Rendimiento: Maximizar velocidad, conformidad de cliente y seguridad.\n",
        "        - Entorno: Calles, peatones, semáforos, clientes.\n",
        "        - Actuadores: Pies, manos.\n",
        "        - Sensores: Ojos, tacto.\n",
        "\n",
        "        c. Robot clasificador de piezas.\n",
        "        - Agente: Robot\n",
        "        - Medidas de Rendimiento: Velocidad y eficacia de clasificación.\n",
        "        - Entorno: Cinta transportadora, objetos a clasificar.\n",
        "        - Actuadores: Pistones, Servomotores.\n",
        "        - Sensores: Control de corriente, encoders, Sensor infrarrojo. "
      ]
    },
    {
      "cell_type": "markdown",
      "metadata": {},
      "source": []
    },
    {
      "cell_type": "markdown",
      "metadata": {},
      "source": [
        "# Ejercicios Prácticos\n",
        "\n",
        "8. La Hormiga de Langton es un agente capaz de modificar el estado de la casilla en la que se encuentra para colorearla o bien de blanco o de negro. Al comenzar, la ubicación de la hormiga es una casilla aleatoria y mira hacia una de las cuatro casillas adyacentes. Si...\n",
        "\n",
        "* ... la casilla sobre la que está es blanca, cambia el color del cuadrado, gira noventa grados a la derecha y avanza un cuadrado.\n",
        "\n",
        "* ... la casilla sobre la que está es negra, cambia el color del cuadrado, gira noventa grados a la izquierda y avanza un cuadrado.\n",
        "\n",
        "    Caracterice el agente con su tabla REAS y las propiedades del entorno para después programarlo en Python:\n",
        "\n",
        "    ¿Observa que se repite algún patrón? De ser así, ¿a partir de qué iteración?"
      ]
    },
    {
      "cell_type": "code",
      "execution_count": null,
      "metadata": {
        "vscode": {
          "languageId": "plaintext"
        }
      },
      "outputs": [],
      "source": [
        "Agente: Hormiga.\n",
        "Medidas de rendimiento: Encontrar un camino de salida.\n",
        "Entorno: Tablero.\n",
        "Actuadores: Las patas.\n",
        "Sensores: Sensor de estado (blanco o negro)."
      ]
    },
    {
      "cell_type": "markdown",
      "metadata": {},
      "source": [
        "9. El Juego de la Vida de Conway consiste en un tablero donde cada casilla representa una célula, de manera que a cada célula le rodean 8 vecinas. Las células tienen dos estados: están *vivas* o *muertas*. En cada iteración, el estado de todas las células se tiene en cuenta para calcular el estado siguiente en simultáneo de acuerdo a las siguientes acciones:\n",
        "\n",
        "* Nacer: Si una célula muerta tiene exactamente 3 células vecinas vivas, dicha célula pasa a estar viva.\n",
        "\n",
        "* Morir: Una célula viva puede morir sobrepoblación cuando tiene más de tres vecinos alrededor o por aislamiento si tiene solo un vecino o ninguno.\n",
        "\n",
        "* Vivir: una célula se mantiene viva si tiene 2 o 3 vecinos a su alrededor.\n",
        "\n",
        "    Caracterice el agente con su tabla REAS y las propiedades del entorno para después programarlo en Python:"
      ]
    },
    {
      "cell_type": "code",
      "execution_count": null,
      "metadata": {
        "vscode": {
          "languageId": "plaintext"
        }
      },
      "outputs": [],
      "source": [
        "Agente: Célula\n",
        "Medidas de rendimiento: Suervivencia, generacion de células, formación de estructuras \n",
        "Entorno: Tablero\n",
        "Actuadores: estado de celda \n",
        "Sensores: Sensor de estado, sensor de posición."
      ]
    },
    {
      "attachments": {},
      "cell_type": "markdown",
      "metadata": {
        "id": "oXcAF__NmgG5"
      },
      "source": [
        "# Bibliografía\n",
        "\n",
        "[Russell, S. & Norvig, P. (2004) _Inteligencia Artificial: Un Enfoque Moderno_. Pearson Educación S.A. (2a Ed.) Madrid, España](https://www.academia.edu/8241613/Inteligencia_Aritificial_Un_Enfoque_Moderno_2da_Edici%C3%B3n_Stuart_J_Russell_y_Peter_Norvig)\n",
        "\n",
        "[Poole, D. & Mackworth, A. (2023) _Artificial Intelligence: Foundations of Computational Agents_. Cambridge University Press (3a Ed.) Vancouver, Canada](https://artint.info/3e/html/ArtInt3e.html)"
      ]
    }
  ],
  "metadata": {
    "colab": {
      "provenance": []
    },
    "kernelspec": {
      "display_name": "Python 3",
      "name": "python3"
    },
    "language_info": {
      "name": "python"
    }
  },
  "nbformat": 4,
  "nbformat_minor": 0
}
